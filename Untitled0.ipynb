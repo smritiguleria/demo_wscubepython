{
  "nbformat": 4,
  "nbformat_minor": 0,
  "metadata": {
    "colab": {
      "provenance": [],
      "toc_visible": true,
      "authorship_tag": "ABX9TyP2pZXKRBs73kVaAoJu/W9o",
      "include_colab_link": true
    },
    "kernelspec": {
      "name": "python3",
      "display_name": "Python 3"
    },
    "language_info": {
      "name": "python"
    }
  },
  "cells": [
    {
      "cell_type": "markdown",
      "metadata": {
        "id": "view-in-github",
        "colab_type": "text"
      },
      "source": [
        "<a href=\"https://colab.research.google.com/github/smritiguleria/demo_wscubepython/blob/main/Untitled0.ipynb\" target=\"_parent\"><img src=\"https://colab.research.google.com/assets/colab-badge.svg\" alt=\"Open In Colab\"/></a>"
      ]
    },
    {
      "cell_type": "code",
      "source": [
        "# Function to simulate AND Gate\n",
        "def AND(A, B):\n",
        "\treturn A & B\n",
        "\n",
        "print(\"Output of 0 AND 0 is\", AND(0, 0))\n",
        "print(\"Output of 0 AND 1 is\", AND(0, 1))\n",
        "print(\"Output of 1 AND 0 is\", AND(1, 0))\n",
        "print(\"Output of 1 AND 1 is\", AND(1, 1))"
      ],
      "metadata": {
        "id": "vmNhE3-tC7ip",
        "outputId": "dc50c29d-030e-48f7-d678-0dbc5fffa559",
        "colab": {
          "base_uri": "https://localhost:8080/"
        }
      },
      "execution_count": 1,
      "outputs": [
        {
          "output_type": "stream",
          "name": "stdout",
          "text": [
            "Output of 0 AND 0 is 0\n",
            "Output of 0 AND 1 is 0\n",
            "Output of 1 AND 0 is 0\n",
            "Output of 1 AND 1 is 1\n"
          ]
        }
      ]
    }
  ]
}