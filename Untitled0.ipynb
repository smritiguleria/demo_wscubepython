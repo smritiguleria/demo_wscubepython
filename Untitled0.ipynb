{
  "nbformat": 4,
  "nbformat_minor": 0,
  "metadata": {
    "colab": {
      "provenance": [],
      "toc_visible": true,
      "authorship_tag": "ABX9TyPRSRtXKL0QmnGn7Qyh3QXD",
      "include_colab_link": true
    },
    "kernelspec": {
      "name": "python3",
      "display_name": "Python 3"
    },
    "language_info": {
      "name": "python"
    }
  },
  "cells": [
    {
      "cell_type": "markdown",
      "metadata": {
        "id": "view-in-github",
        "colab_type": "text"
      },
      "source": [
        "<a href=\"https://colab.research.google.com/github/smritiguleria/demo_wscubepython/blob/main/Untitled0.ipynb\" target=\"_parent\"><img src=\"https://colab.research.google.com/assets/colab-badge.svg\" alt=\"Open In Colab\"/></a>"
      ]
    },
    {
      "cell_type": "code",
      "execution_count": null,
      "metadata": {
        "id": "K8jmF7yv-kTh"
      },
      "outputs": [],
      "source": []
    },
    {
      "cell_type": "code",
      "source": [],
      "metadata": {
        "id": "DhrnYW3R_dy3"
      },
      "execution_count": null,
      "outputs": []
    },
    {
      "cell_type": "code",
      "source": [],
      "metadata": {
        "id": "1zFCVkuN_gcS"
      },
      "execution_count": null,
      "outputs": []
    },
    {
      "cell_type": "code",
      "source": [
        "# Python3 program to illustrate\n",
        "# working of AND gate\n",
        "\n",
        "def AND (a, b):\n",
        "\n",
        "    if a == 1 and b == 1:\n",
        "        return True\n",
        "    else:\n",
        "        return False\n",
        "\n",
        "# Driver code\n",
        "if __name__=='__main__':\n",
        "    print(AND(1, 1))\n",
        "\n",
        "    print(\"+---------------+----------------+\")\n",
        "    print(\" | AND Truth Table | Result |\")\n",
        "    print(\" A = False, B = False | A AND B =\",AND(False,False),\" | \")\n",
        "    print(\" A = False, B = True | A AND B =\",AND(False,True),\" | \")\n",
        "    print(\" A = True, B = False | A AND B =\",AND(True,False),\" | \")\n",
        "    print(\" A = True, B = True | A AND B =\",AND(True,True),\" | \")"
      ],
      "metadata": {
        "id": "0wwpMFRJ_kIS",
        "outputId": "b2fba3d0-068c-4028-9117-f0aa6e774357",
        "colab": {
          "base_uri": "https://localhost:8080/"
        }
      },
      "execution_count": null,
      "outputs": [
        {
          "output_type": "stream",
          "name": "stdout",
          "text": [
            "True\n",
            "+---------------+----------------+\n",
            " | AND Truth Table | Result |\n",
            " A = False, B = False | A AND B = False  | \n",
            " A = False, B = True | A AND B = False  | \n",
            " A = True, B = False | A AND B = False  | \n",
            " A = True, B = True | A AND B = True  | \n"
          ]
        }
      ]
    }
  ]
}