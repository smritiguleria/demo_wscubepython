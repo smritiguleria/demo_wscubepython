{
  "nbformat": 4,
  "nbformat_minor": 0,
  "metadata": {
    "colab": {
      "provenance": [],
      "authorship_tag": "ABX9TyOfuhXvF4rcFiBKTJD3pRIJ",
      "include_colab_link": true
    },
    "kernelspec": {
      "name": "python3",
      "display_name": "Python 3"
    },
    "language_info": {
      "name": "python"
    }
  },
  "cells": [
    {
      "cell_type": "markdown",
      "metadata": {
        "id": "view-in-github",
        "colab_type": "text"
      },
      "source": [
        "<a href=\"https://colab.research.google.com/github/smritiguleria/demo_wscubepython/blob/main/Untitled1.ipynb\" target=\"_parent\"><img src=\"https://colab.research.google.com/assets/colab-badge.svg\" alt=\"Open In Colab\"/></a>"
      ]
    },
    {
      "cell_type": "code",
      "source": [
        "# Function to simulate OR Gate\n",
        "def OR(A, B):\n",
        "\treturn A | B\n",
        "\n",
        "print(\"Output of 0 OR 0 is\", OR(0, 0))\n",
        "print(\"Output of 0 OR 1 is\", OR(0, 1))\n",
        "print(\"Output of 1 OR 0 is\", OR(1, 0))\n",
        "print(\"Output of 1 OR 1 is\", OR(1, 1))"
      ],
      "metadata": {
        "id": "oXE4IyZ0CRDU",
        "outputId": "c0f99b39-3f1d-48f9-faf4-42b9e338fbdd",
        "colab": {
          "base_uri": "https://localhost:8080/"
        }
      },
      "execution_count": 2,
      "outputs": [
        {
          "output_type": "stream",
          "name": "stdout",
          "text": [
            "Output of 0 OR 0 is 0\n",
            "Output of 0 OR 1 is 1\n",
            "Output of 1 OR 0 is 1\n",
            "Output of 1 OR 1 is 1\n"
          ]
        }
      ]
    }
  ]
}