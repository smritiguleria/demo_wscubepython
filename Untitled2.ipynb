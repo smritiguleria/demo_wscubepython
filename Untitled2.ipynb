{
  "nbformat": 4,
  "nbformat_minor": 0,
  "metadata": {
    "colab": {
      "provenance": [],
      "authorship_tag": "ABX9TyPeDhaf2R1fCRXzPBSGzR0H",
      "include_colab_link": true
    },
    "kernelspec": {
      "name": "python3",
      "display_name": "Python 3"
    },
    "language_info": {
      "name": "python"
    }
  },
  "cells": [
    {
      "cell_type": "markdown",
      "metadata": {
        "id": "view-in-github",
        "colab_type": "text"
      },
      "source": [
        "<a href=\"https://colab.research.google.com/github/smritiguleria/demo_wscubepython/blob/main/Untitled2.ipynb\" target=\"_parent\"><img src=\"https://colab.research.google.com/assets/colab-badge.svg\" alt=\"Open In Colab\"/></a>"
      ]
    },
    {
      "cell_type": "code",
      "execution_count": 1,
      "metadata": {
        "colab": {
          "base_uri": "https://localhost:8080/"
        },
        "id": "jdC-cHy975jG",
        "outputId": "7eb0e054-4072-44e1-8a24-88ad9fb44a05"
      },
      "outputs": [
        {
          "output_type": "stream",
          "name": "stdout",
          "text": [
            "Output of NOT 0 is 1\n",
            "Output of NOT 1 is 0\n"
          ]
        }
      ],
      "source": [
        "# Function to simulate NOT Gate\n",
        "def NOT(A):\n",
        "\treturn ~A+2\n",
        "\n",
        "print(\"Output of NOT 0 is\", NOT(0))\n",
        "print(\"Output of NOT 1 is\", NOT(1))"
      ]
    }
  ]
}