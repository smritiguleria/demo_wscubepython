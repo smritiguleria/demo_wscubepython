{
  "nbformat": 4,
  "nbformat_minor": 0,
  "metadata": {
    "colab": {
      "provenance": [],
      "authorship_tag": "ABX9TyM064rDZW24OccrZfhAwVTn",
      "include_colab_link": true
    },
    "kernelspec": {
      "name": "python3",
      "display_name": "Python 3"
    },
    "language_info": {
      "name": "python"
    }
  },
  "cells": [
    {
      "cell_type": "markdown",
      "metadata": {
        "id": "view-in-github",
        "colab_type": "text"
      },
      "source": [
        "<a href=\"https://colab.research.google.com/github/smritiguleria/demo_wscubepython/blob/main/Untitled3.ipynb\" target=\"_parent\"><img src=\"https://colab.research.google.com/assets/colab-badge.svg\" alt=\"Open In Colab\"/></a>"
      ]
    },
    {
      "cell_type": "code",
      "source": [
        "# Function to simulate AND Gate\n",
        "def AND(A, B):\n",
        "\treturn A & B;\n",
        "\n",
        "# Function to simulate NOT Gate\n",
        "def NOT(A):\n",
        "\treturn ~A+2\n",
        "\n",
        "# Function to simulate NAND Gate\n",
        "def NAND(A, B):\n",
        "\treturn NOT(AND(A, B))\n",
        "\n",
        "\n",
        "print(\"Output of 0 NAND 0 is\", NAND(0, 0))\n",
        "print(\"Output of 0 NAND 1 is\", NAND(0, 1))\n",
        "print(\"Output of 1 NAND 0 is\", NAND(1, 0))\n",
        "print(\"Output of 1 NAND 1 is\", NAND(1, 1))"
      ],
      "metadata": {
        "id": "wbA3L-WqDmcu"
      },
      "execution_count": null,
      "outputs": []
    }
  ]
}