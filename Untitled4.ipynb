{
  "nbformat": 4,
  "nbformat_minor": 0,
  "metadata": {
    "colab": {
      "provenance": [],
      "authorship_tag": "ABX9TyOh8xwz5TafBQSZ7+4Db7mX",
      "include_colab_link": true
    },
    "kernelspec": {
      "name": "python3",
      "display_name": "Python 3"
    },
    "language_info": {
      "name": "python"
    }
  },
  "cells": [
    {
      "cell_type": "markdown",
      "metadata": {
        "id": "view-in-github",
        "colab_type": "text"
      },
      "source": [
        "<a href=\"https://colab.research.google.com/github/smritiguleria/demo_wscubepython/blob/main/Untitled4.ipynb\" target=\"_parent\"><img src=\"https://colab.research.google.com/assets/colab-badge.svg\" alt=\"Open In Colab\"/></a>"
      ]
    },
    {
      "cell_type": "code",
      "execution_count": 1,
      "metadata": {
        "colab": {
          "base_uri": "https://localhost:8080/"
        },
        "id": "C2XdcMJ5EO28",
        "outputId": "486e3b4d-2aa7-4cbd-fc5d-6c23627952a8"
      },
      "outputs": [
        {
          "output_type": "stream",
          "name": "stdout",
          "text": [
            "Output of 0 NOR 0 is 1\n",
            "Output of 0 NOR 1 is 0\n",
            "Output of 1 NOR 0 is 0\n",
            "Output of 1 NOR 1 is 0\n"
          ]
        }
      ],
      "source": [
        "# Function to calculate OR Gate\n",
        "def OR(A, B):\n",
        "\treturn A | B;\n",
        "\n",
        "# Function to simulate NOT Gate\n",
        "def NOT(A):\n",
        "\treturn ~A+2\n",
        "\n",
        "# Function to simulate NOR Gate\n",
        "def NOR(A, B):\n",
        "\treturn NOT(OR(A, B))\n",
        "\n",
        "\n",
        "print(\"Output of 0 NOR 0 is\", NOR(0, 0))\n",
        "print(\"Output of 0 NOR 1 is\", NOR(0, 1))\n",
        "print(\"Output of 1 NOR 0 is\", NOR(1, 0))\n",
        "print(\"Output of 1 NOR 1 is\", NOR(1, 1))"
      ]
    }
  ]
}