{
  "nbformat": 4,
  "nbformat_minor": 0,
  "metadata": {
    "colab": {
      "provenance": [],
      "authorship_tag": "ABX9TyNJMBQ0sjBU+rKI19YCEjbN",
      "include_colab_link": true
    },
    "kernelspec": {
      "name": "python3",
      "display_name": "Python 3"
    },
    "language_info": {
      "name": "python"
    }
  },
  "cells": [
    {
      "cell_type": "markdown",
      "metadata": {
        "id": "view-in-github",
        "colab_type": "text"
      },
      "source": [
        "<a href=\"https://colab.research.google.com/github/smritiguleria/demo_wscubepython/blob/main/Untitled5.ipynb\" target=\"_parent\"><img src=\"https://colab.research.google.com/assets/colab-badge.svg\" alt=\"Open In Colab\"/></a>"
      ]
    },
    {
      "cell_type": "code",
      "source": [
        "# Function to simulate XOR Gate\n",
        "def XOR(A, B):\n",
        "\treturn A ^ B\n",
        "\n",
        "print(\"Output of 0 XOR 0 is\", XOR(0, 0))\n",
        "print(\"Output of 0 XOR 1 is\", XOR(0, 1))\n",
        "print(\"Output of 1 XOR 0 is\", XOR(1, 0))\n",
        "print(\"Output of 1 XOR 1 is\", XOR(1, 1))"
      ],
      "metadata": {
        "colab": {
          "base_uri": "https://localhost:8080/"
        },
        "id": "7w3R8tmgFVoU",
        "outputId": "145ddf69-1e07-426d-8c9c-2302a288687a"
      },
      "execution_count": 1,
      "outputs": [
        {
          "output_type": "stream",
          "name": "stdout",
          "text": [
            "Output of 0 XOR 0 is 0\n",
            "Output of 0 XOR 1 is 1\n",
            "Output of 1 XOR 0 is 1\n",
            "Output of 1 XOR 1 is 0\n"
          ]
        }
      ]
    }
  ]
}