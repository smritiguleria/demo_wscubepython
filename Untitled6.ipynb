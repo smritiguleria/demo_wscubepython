{
  "nbformat": 4,
  "nbformat_minor": 0,
  "metadata": {
    "colab": {
      "provenance": [],
      "authorship_tag": "ABX9TyNj670jDe9R0D0ZkWA+zb2N",
      "include_colab_link": true
    },
    "kernelspec": {
      "name": "python3",
      "display_name": "Python 3"
    },
    "language_info": {
      "name": "python"
    }
  },
  "cells": [
    {
      "cell_type": "markdown",
      "metadata": {
        "id": "view-in-github",
        "colab_type": "text"
      },
      "source": [
        "<a href=\"https://colab.research.google.com/github/smritiguleria/demo_wscubepython/blob/main/Untitled6.ipynb\" target=\"_parent\"><img src=\"https://colab.research.google.com/assets/colab-badge.svg\" alt=\"Open In Colab\"/></a>"
      ]
    },
    {
      "cell_type": "code",
      "source": [
        "# Function to simulate XOR Gate\n",
        "def XOR(A, B):\n",
        "\treturn A ^ B\n",
        "\n",
        "# Function to simulate NOT Gate\n",
        "def NOT(A):\n",
        "\treturn ~A+2\n",
        "\n",
        "# Function to simulate XNOR Gate\n",
        "def XNOR(A, B):\n",
        "\treturn NOT(XOR(A, B))\n",
        "\n",
        "\n",
        "print(\"Output of 0 XNOR 0 is\", XNOR(0, 0))\n",
        "print(\"Output of 0 XNOR 1 is\", XNOR(0, 1))\n",
        "print(\"Output of 1 XNOR 0 is\", XNOR(1, 0))\n",
        "print(\"Output of 1 XNOR 1 is\", XNOR(1, 1))"
      ],
      "metadata": {
        "colab": {
          "base_uri": "https://localhost:8080/"
        },
        "id": "RXakQ_6TFsV1",
        "outputId": "4d107355-8c62-4648-f4e7-3dc753d4a5d6"
      },
      "execution_count": 1,
      "outputs": [
        {
          "output_type": "stream",
          "name": "stdout",
          "text": [
            "Output of 0 XNOR 0 is 1\n",
            "Output of 0 XNOR 1 is 0\n",
            "Output of 1 XNOR 0 is 0\n",
            "Output of 1 XNOR 1 is 1\n"
          ]
        }
      ]
    }
  ]
}